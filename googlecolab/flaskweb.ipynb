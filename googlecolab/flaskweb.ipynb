{
  "nbformat": 4,
  "nbformat_minor": 0,
  "metadata": {
    "colab": {
      "name": "flaskWeb-dec122021.ipynb",
      "private_outputs": true,
      "provenance": [],
      "collapsed_sections": []
    },
    "kernelspec": {
      "name": "python3",
      "display_name": "Python 3"
    },
    "language_info": {
      "name": "python"
    }
  },
  "cells": [
    {
      "cell_type": "code",
      "metadata": {
        "id": "XvyLTb2kPEcs"
      },
      "source": [
        "!pip install flask-ngrok\n",
        "!pip install flask-bootstrap"
      ],
      "execution_count": null,
      "outputs": []
    },
    {
      "cell_type": "code",
      "metadata": {
        "id": "i6ZOi70Cczc7"
      },
      "source": [
        "from flask_ngrok import run_with_ngrok\n",
        "from flask import Flask, render_template , request \n",
        "import os\n",
        "from google.colab import drive\n",
        "from markupsafe import escape\n",
        "import sqlite3\n",
        "#from flask_cores import CORS\n",
        "\n",
        "\n"
      ],
      "execution_count": null,
      "outputs": []
    },
    {
      "cell_type": "code",
      "metadata": {
        "id": "9GN7Fkiuc3F3"
      },
      "source": [
        "#Mount the driver\n",
        "drive.mount('/content/gdrive')"
      ],
      "execution_count": null,
      "outputs": []
    },
    {
      "cell_type": "code",
      "source": [
        "#This is to find the url for flask server host in google colab in case ngrock as login 5000 is the flask port\n",
        "from google.colab.output import eval_js\n",
        "print(eval_js(\"google.colab.kernel.proxyPort(5000)\"))\n"
      ],
      "metadata": {
        "id": "lvIn85X8MlDB"
      },
      "execution_count": null,
      "outputs": []
    },
    {
      "cell_type": "code",
      "metadata": {
        "id": "9zylwoFMPgqP"
      },
      "source": [
        "\n",
        "app = Flask(__name__, template_folder='/content/gdrive/MyDrive/static')\n",
        "#CORS(app)\n",
        "run_with_ngrok(app)\n",
        "\n",
        "def setupDb():\n",
        "    conn = sqlite3.connect('test.db')\n",
        "    print(\"Opened database successfully\");\n",
        "\n",
        "    conn.execute('''\n",
        "CREATE TABLE IF NOT EXISTS team(team text);''')\n",
        "\n",
        "    conn.commit()\n",
        "\n",
        "    print(\"Table created successfully\");\n",
        "\n",
        "    conn.close()\n",
        "\n",
        "def insert(item):\n",
        "  print(f'to insert {item}')\n",
        "  conn = sqlite3.connect('test.db')\n",
        "  conn.execute(f\"INSERT INTO team VALUES('{item}');\")\n",
        "  conn.commit()\n",
        "  print(\"data inserted successfully\");\n",
        "  conn.close()\n",
        "\n",
        "def getData():\n",
        "  conn = sqlite3.connect('test.db')\n",
        "  cursor = conn.execute(''' SELECT *  FROM team''')\n",
        "  result=''\n",
        "  for row in cursor:\n",
        "    #print(row)\n",
        "    result = result +\"<br>\" +row[0]\n",
        "  \n",
        "  conn.close()\n",
        "  return result\n",
        "\n",
        "\n",
        "def getDataArray():\n",
        "  conn = sqlite3.connect('test.db')\n",
        "  cursor = conn.execute(''' SELECT *  FROM team''')\n",
        "  data = cursor.fetchall()\n",
        "  conn.close()\n",
        "  return data\n",
        "\n",
        "@app.route('/')\n",
        "def hello():\n",
        "  return 'hello world!'\n",
        "\n",
        "\n",
        "@app.route('/hi/<name>')\n",
        "def greeting(name):\n",
        "  return f'Greetings! {name} '\n",
        "\n",
        "\n",
        "@app.route('/add/<name>')\n",
        "def add(name):\n",
        "  insert(name)\n",
        "  return f'inserted {escape(name)}!'\n",
        "\n",
        "@app.route('/list')\n",
        "def lst():\n",
        "  data=getData()\n",
        "  return data\n",
        "\n",
        "\n",
        "@app.route('/index')\n",
        "def index():\n",
        "    return render_template('index.html')\n",
        "\n",
        "\n",
        "\n",
        "@app.route('/adddisplay', methods=['GET','POST'])\n",
        "def adddisplay():\n",
        "    if request.method=='GET':\n",
        "      pass\n",
        "    if request.method=='POST':\n",
        "      item = request.form.get('item')\n",
        "      insert(item)\n",
        "      print(item)\n",
        "    data = getDataArray()  \n",
        "    return render_template('adddisplay.html', items = data)\n",
        "\n",
        "\n",
        "@app.route('/mp', methods=['GET', 'POST'])\n",
        "def map():\n",
        "    if request.method=='GET':\n",
        "      pass\n",
        "    if request.method=='POST':\n",
        "      item=request.form.get('item')\n",
        "      insert(item)\n",
        "    items=getDataArray()\n",
        "    return render_template('data.html', items=items)\n",
        "\n",
        "if __name__ == '__main__':\n",
        "   setupDb()\n",
        "   app.run()"
      ],
      "execution_count": null,
      "outputs": []
    },
    {
      "cell_type": "code",
      "source": [
        ""
      ],
      "metadata": {
        "id": "XCqBnMo_1RF7"
      },
      "execution_count": null,
      "outputs": []
    },
    {
      "cell_type": "markdown",
      "source": [
        "#Home Work\n",
        "Please add a new column price to the table, and change the web function to add new field price on the web,\n",
        "so when the web submit is clicked, the server side will receive two piece of data.\n",
        "Please insert that both the item and price into database.\n",
        "Then retrive all data from database,\n",
        "and display both item and price on web page for all data.\n"
      ],
      "metadata": {
        "id": "zC3qKRQi1R-d"
      }
    }
  ]
}